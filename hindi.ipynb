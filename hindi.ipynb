{
 "cells": [
  {
   "cell_type": "code",
   "execution_count": 1,
   "metadata": {},
   "outputs": [
    {
     "name": "stderr",
     "output_type": "stream",
     "text": [
      "Using TensorFlow backend.\n"
     ]
    }
   ],
   "source": [
    "import numpy as np\n",
    "from keras import layers\n",
    "from keras.layers import Input, Dense, Activation, ZeroPadding2D, BatchNormalization, Flatten, Conv2D\n",
    "from keras.layers import AveragePooling2D, MaxPooling2D, Dropout, GlobalMaxPooling2D, GlobalAveragePooling2D\n",
    "from keras.utils import np_utils, print_summary\n",
    "import pandas as pd\n",
    "from keras.models import Sequential\n",
    "from keras.callbacks import ModelCheckpoint\n",
    "import keras.backend as K"
   ]
  },
  {
   "cell_type": "code",
   "execution_count": 2,
   "metadata": {},
   "outputs": [],
   "source": [
    "data = pd.read_csv(\"data.csv\")\n",
    "dataset = np.array(data)\n",
    "np.random.shuffle(dataset)\n",
    "X = dataset\n",
    "Y = dataset\n",
    "X = X[:, 0:1024]\n",
    "Y = Y[:, 1024]\n",
    "\n",
    "X_train = X[0:70000, :]\n",
    "X_train = X_train / 255.\n",
    "X_test = X[70000:72001, :]\n",
    "X_test = X_test / 255.\n",
    "\n",
    "#Reshape\n",
    "Y =Y.reshape(Y.shape[0], 1)\n",
    "Y_train = Y[0:70000, :]\n",
    "Y_train = Y_train.T\n",
    "Y_test = Y[70000:72001, :]\n",
    "Y_test = Y_test.T"
   ]
  },
  {
   "cell_type": "code",
   "execution_count": 3,
   "metadata": {},
   "outputs": [
    {
     "name": "stdout",
     "output_type": "stream",
     "text": [
      "number of training examples = 70000\n",
      "number of test examples = (2000, 1024)\n",
      "X_train shape: (70000, 1024)\n",
      "Y_train shape: (1, 70000)\n",
      "X_test shape: (2000, 1024)\n",
      "Y_test shape: (1, 2000)\n"
     ]
    }
   ],
   "source": [
    "print(\"number of training examples = \" + str(X_train.shape[0]))\n",
    "print(\"number of test examples = \" + str(X_test.shape))\n",
    "print(\"X_train shape: \" + str(X_train.shape))\n",
    "print(\"Y_train shape: \" + str(Y_train.shape))\n",
    "print(\"X_test shape: \" + str(X_test.shape))\n",
    "print(\"Y_test shape: \" + str(Y_test.shape))"
   ]
  },
  {
   "cell_type": "code",
   "execution_count": 4,
   "metadata": {},
   "outputs": [
    {
     "name": "stdout",
     "output_type": "stream",
     "text": [
      "X_train shape: (70000, 32, 32, 1)\n",
      "Y_train shape: (1, 70000)\n"
     ]
    }
   ],
   "source": [
    "image_x = 32\n",
    "image_y = 32\n",
    "\n",
    "\n",
    "train_y = np_utils.to_categorical(Y_train)\n",
    "test_y = np_utils.to_categorical(Y_test)\n",
    "train_y = train_y.reshape(train_y.shape[1], train_y.shape[2])\n",
    "test_y = test_y.reshape(test_y.shape[1], test_y.shape[2])\n",
    "X_train = X_train.reshape(X_train.shape[0], 32, 32, 1)\n",
    "X_test = X_test.reshape(X_test.shape[0], image_x, image_y, 1)\n",
    "print(\"X_train shape: \" + str(X_train.shape))\n",
    "print(\"Y_train shape: \" + str(Y_train.shape))\n",
    "#Building model\n",
    "def keras_model(image_x,image_y):\n",
    "\tnum_of_classes = 37\n",
    "\tmodel = Sequential()\n",
    "\tmodel.add(Conv2D(filters=32, kernel_size=(5, 5), input_shape=(image_x, image_y, 1), activation='sigmoid'))\n",
    "\tmodel.add(MaxPooling2D(pool_size=(2, 2), strides=(2, 2), padding='same'))\n",
    "\tmodel.add(Conv2D(64, (5, 5), activation='sigmoid'))\n",
    "\tmodel.add(MaxPooling2D(pool_size=(5, 5), strides=(5, 5), padding='same'))\n",
    "\tmodel.add(Flatten())\n",
    "\tmodel.add(Dense(num_of_classes, activation='softmax'))\n",
    "\tmodel.compile(loss='categorical_crossentropy', optimizer='adam', metrics=['accuracy'])\n",
    "\tfilepath = \"devanagri_model_refined.h5\"\n",
    "\tcheckpoint1 = ModelCheckpoint(filepath, monitor='val_acc', verbose=1, save_best_only=True, mode='max')\n",
    "\tcallbacks_list = [checkpoint1]\n",
    "\n",
    "\treturn model, callbacks_list     "
   ]
  },
  {
   "cell_type": "code",
   "execution_count": 5,
   "metadata": {},
   "outputs": [
    {
     "name": "stdout",
     "output_type": "stream",
     "text": [
      "Train on 70000 samples, validate on 2000 samples\n",
      "Epoch 1/1\n",
      "70000/70000 [==============================] - 66s 944us/step - loss: 2.1334 - accuracy: 0.4587 - val_loss: 0.7387 - val_accuracy: 0.8245\n"
     ]
    },
    {
     "name": "stderr",
     "output_type": "stream",
     "text": [
      "C:\\Users\\cains\\Anaconda3\\lib\\site-packages\\keras\\callbacks\\callbacks.py:707: RuntimeWarning: Can save best model only with val_acc available, skipping.\n",
      "  'skipping.' % (self.monitor), RuntimeWarning)\n"
     ]
    },
    {
     "name": "stdout",
     "output_type": "stream",
     "text": [
      "CNN Error: 17.55%\n",
      "Model: \"sequential_1\"\n",
      "_________________________________________________________________\n",
      "Layer (type)                 Output Shape              Param #   \n",
      "=================================================================\n",
      "conv2d_1 (Conv2D)            (None, 28, 28, 32)        832       \n",
      "_________________________________________________________________\n",
      "max_pooling2d_1 (MaxPooling2 (None, 14, 14, 32)        0         \n",
      "_________________________________________________________________\n",
      "conv2d_2 (Conv2D)            (None, 10, 10, 64)        51264     \n",
      "_________________________________________________________________\n",
      "max_pooling2d_2 (MaxPooling2 (None, 2, 2, 64)          0         \n",
      "_________________________________________________________________\n",
      "flatten_1 (Flatten)          (None, 256)               0         \n",
      "_________________________________________________________________\n",
      "dense_1 (Dense)              (None, 37)                9509      \n",
      "=================================================================\n",
      "Total params: 61,605\n",
      "Trainable params: 61,605\n",
      "Non-trainable params: 0\n",
      "_________________________________________________________________\n"
     ]
    }
   ],
   "source": [
    "model, callbacks_list = keras_model(image_x, image_y)\n",
    "model.fit(X_train, train_y, validation_data=(X_test, test_y), epochs=1, batch_size=64, callbacks=callbacks_list)\n",
    "scores = model.evaluate(X_test, test_y, verbose=0)\n",
    "print(\"CNN Error: %.2f%%\" % (100 - scores[1] * 100))\n",
    "print_summary(model)\n",
    "model.save('devanagari.h5')\n"
   ]
  },
  {
   "cell_type": "code",
   "execution_count": 6,
   "metadata": {},
   "outputs": [],
   "source": [
    "import cv2\n",
    "from keras.models import load_model\n",
    "import numpy as np\n",
    "from collections import deque #queue"
   ]
  },
  {
   "cell_type": "code",
   "execution_count": 7,
   "metadata": {},
   "outputs": [
    {
     "name": "stdout",
     "output_type": "stream",
     "text": [
      "<keras.engine.sequential.Sequential object at 0x000001E04AD17BE0>\n"
     ]
    }
   ],
   "source": [
    "model1 = load_model('devanagari.h5')\n",
    "print(model1)"
   ]
  },
  {
   "cell_type": "code",
   "execution_count": 8,
   "metadata": {},
   "outputs": [],
   "source": [
    "letter_count = {0: 'CHECK', 1: '01_ka', 2: '02_kha', 3: '03_ga', 4: '04_gha', 5: '05_kna', 6: 'character_06_cha', \n",
    "7: '07_chha', 8: '08_ja', 9:'09_jha', 10: '10_yna', 11: '11_taamatar', 12: '12_thaa', 13: '13_daa', 14: '14_dhaa', 15: '15_adna', 16: '16_tabla', 17: '17_tha', 18: '18_da', 19: '19_dha',\n",
    "20: '20_na', 21: '21_pa', 22: '22_pha', 23: '23_ba', 24: '24_bha', 25: '25_ma', 26: '26_yaw', 27: '27_ra', 28: '28_la', 29: '29_waw', 30: '30_motosaw', 31: '31_petchiryakha', 32: '32_patalosaw', 33: '33_ha', 34: '34_chhya', 35: '35_tra', 36: '36_gya', 37: 'CHECK'}\n"
   ]
  },
  {
   "cell_type": "code",
   "execution_count": 13,
   "metadata": {},
   "outputs": [],
   "source": [
    "def keras_predict(model, image):\n",
    "    processed = keras_process_image(image)\n",
    "    print(\"processed: \" + str(processed.shape))\n",
    "    pred_probab = model.predict(processed)[0]\n",
    "    pred_class = list(pred_probab).index(max(pred_probab))\n",
    "    return max(pred_probab), pred_class\n",
    "\n",
    "\n",
    "\n",
    "\n",
    "def keras_process_image(img):\n",
    "    image_x = 32\n",
    "    image_y = 32\n",
    "    img = cv2.resize(img, (image_x, image_y))\n",
    "    img = np.array(img, dtype=np.float32)\n",
    "    img = np.reshape(img, (-1, image_x, image_y, 1))\n",
    "    return img\n",
    "\n"
   ]
  },
  {
   "cell_type": "code",
   "execution_count": null,
   "metadata": {
    "scrolled": true
   },
   "outputs": [],
   "source": [
    "cap = cv2.VideoCapture(0)\n",
    "Lower_green = np.array([110, 50, 50])\n",
    "Upper_green = np.array([130, 255, 255])\n",
    "pred_class=0\n",
    "pts = deque(maxlen=512)\n",
    "blackboard = np.zeros((480, 640, 3), dtype=np.uint8)\n",
    "digit = np.zeros((200, 200, 3), dtype=np.uint8)\n",
    "while (cap.isOpened()):\n",
    "    ret, img = cap.read()\n",
    "    img = cv2.flip(img, 1)\n",
    "    imgHSV = cv2.cvtColor(img, cv2.COLOR_BGR2HSV)\n",
    "    mask = cv2.inRange(imgHSV, Lower_green, Upper_green)\n",
    "    blur = cv2.medianBlur(mask, 15)\n",
    "    blur = cv2.GaussianBlur(blur, (5, 5), 0)\n",
    "    thresh = cv2.threshold(blur, 0, 255, cv2.THRESH_BINARY + cv2.THRESH_OTSU)[1]\n",
    "    cnts = cv2.findContours(thresh.copy(), cv2.RETR_TREE, cv2.CHAIN_APPROX_NONE)[0]\n",
    "    center = None\n",
    "    if len(cnts) >= 1:\n",
    "        contour= max(cnts, key=cv2.contourArea)\n",
    "            \n",
    "        if cv2.contourArea(contour) > 250:\n",
    "            ((x, y), radius) = cv2.minEnclosingCircle(contour)\n",
    "            cv2.circle(img, (int(x), int(y)), int(radius), (0, 255, 255), 2)\n",
    "            cv2.circle(img, center, 5, (0, 0, 255), -1)\n",
    "            M = cv2.moments(contour)\n",
    "            center = (int(M['m10'] / M['m00']), int(M['m01'] / M['m00']))\n",
    "            pts.appendleft(center)\n",
    "            for i in range(1, len(pts)):\n",
    "                if pts[i - 1] is None or pts[i] is None:\n",
    "                    continue\n",
    "                cv2.line(blackboard, pts[i - 1], pts[i], (255, 255, 255), 10)\n",
    "                cv2.line(img, pts[i - 1], pts[i], (0, 0, 255), 5)\n",
    "    elif len(cnts) == 0:\n",
    "        if len(pts) != []:\n",
    "            blackboard_gray = cv2.cvtColor(blackboard, cv2.COLOR_BGR2GRAY)\n",
    "            blur1 = cv2.medianBlur(blackboard_gray, 15)\n",
    "            blur1 = cv2.GaussianBlur(blur1, (5, 5), 0)\n",
    "            thresh1 = cv2.threshold(blur1, 0, 255, cv2.THRESH_BINARY + cv2.THRESH_OTSU)[1]\n",
    "            blackboard_cnts = cv2.findContours(thresh1.copy(), cv2.RETR_TREE, cv2.CHAIN_APPROX_NONE)[0]\n",
    "            if len(blackboard_cnts) >= 1:\n",
    "                cnt = max(blackboard_cnts, key=cv2.contourArea)\n",
    "                print(cv2.contourArea(cnt))\n",
    "                if cv2.contourArea(cnt) > 2000:\n",
    "                    x, y, w, h = cv2.boundingRect(cnt)\n",
    "                    digit = blackboard_gray[y:y + h, x:x + w]\n",
    "                        \n",
    "                    pred_probab, pred_class = keras_predict(model1, digit)\n",
    "                    print(pred_class, pred_probab)\n",
    "\n",
    "        pts = deque(maxlen=512)\n",
    "        blackboard = np.zeros((480, 640, 3), dtype=np.uint8)\n",
    "    cv2.putText(img, \"Conv Network :  \" + str(letter_count[pred_class]), (10, 470),\n",
    "                cv2.FONT_HERSHEY_SIMPLEX, 0.7, (0, 0, 255), 2)\n",
    "    cv2.imshow(\"Frame\", img)\n",
    "    cv2.imshow(\"Contours\", thresh)\n",
    "    k = cv2.waitKey(10)\n",
    "    if k == 27:\n",
    "        break"
   ]
  },
  {
   "cell_type": "code",
   "execution_count": null,
   "metadata": {},
   "outputs": [],
   "source": []
  },
  {
   "cell_type": "code",
   "execution_count": null,
   "metadata": {},
   "outputs": [],
   "source": []
  }
 ],
 "metadata": {
  "kernelspec": {
   "display_name": "Python 3",
   "language": "python",
   "name": "python3"
  },
  "language_info": {
   "codemirror_mode": {
    "name": "ipython",
    "version": 3
   },
   "file_extension": ".py",
   "mimetype": "text/x-python",
   "name": "python",
   "nbconvert_exporter": "python",
   "pygments_lexer": "ipython3",
   "version": "3.7.3"
  }
 },
 "nbformat": 4,
 "nbformat_minor": 2
}
